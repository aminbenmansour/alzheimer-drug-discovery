{
  "cells": [
    {
      "cell_type": "markdown",
      "metadata": {
        "id": "xNq-XQWWYNXh"
      },
      "source": [
        "# **Bioinformatics Project - Computational Drug Discovery [Part 5] Comparing Regressors**\n",
        "\n",
        "In this Jupyter notebook, we will be building a real-life data science project that you can include in your data science portfolio. Particularly, we will be building a machine learning model using the ChEMBL bioactivity data.\n",
        "\n",
        "In Part 5, we will be comparing several ML algorithms for build regression models of acetylcholinesterase inhibitors.\n",
        "\n"
      ]
    },
    {
      "cell_type": "markdown",
      "metadata": {
        "id": "OnVZXG7QY1D2"
      },
      "source": [
        "## **1. Import libraries**"
      ]
    },
    {
      "cell_type": "markdown",
      "metadata": {
        "id": "lUGwBVH7Y8Rq"
      },
      "source": [
        "## **2. Load the data set**\n"
      ]
    },
    {
      "cell_type": "markdown",
      "metadata": {
        "id": "7Qa6WSGGZ39n"
      },
      "source": [
        "## **3. Data pre-processing**"
      ]
    },
    {
      "cell_type": "markdown",
      "metadata": {
        "id": "zkW9nKohamEj"
      },
      "source": [
        "## **4. Compare ML algorithms**"
      ]
    },
    {
      "cell_type": "markdown",
      "metadata": {
        "id": "CM-lcHz6byNz"
      },
      "source": [
        "## **5. Data visualization of model performance**"
      ]
    }
  ],
  "metadata": {
    "colab": {
      "collapsed_sections": [],
      "name": "CDD_ML_Part_5_Acetylcholinesterase_Compare_Regressors.ipynb",
      "provenance": []
    },
    "kernelspec": {
      "display_name": "Python 3",
      "name": "python3"
    }
  },
  "nbformat": 4,
  "nbformat_minor": 0
}
