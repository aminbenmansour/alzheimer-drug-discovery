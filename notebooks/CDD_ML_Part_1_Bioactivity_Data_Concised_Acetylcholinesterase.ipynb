{
  "cells": [
    {
      "cell_type": "markdown",
      "metadata": {
        "id": "wSFbIMb87cHu"
      },
      "source": [
        "# **Bioinformatics Project - Computational Drug Discovery [Part 1] Download Bioactivity Data (Concised version)**\n",
        "\n",
        "In this Jupyter notebook, we will be building a real-life **data science project** that you can include in your **data science portfolio**. Particularly, we will be building a machine learning model using the ChEMBL bioactivity data.\n",
        "\n",
        "In **Part 1**, we will be performing Data Collection and Pre-Processing from the ChEMBL Database.\n",
        "\n",
        "\n",
        "---"
      ]
    },
    {
      "cell_type": "markdown",
      "metadata": {
        "id": "3iQiERxumDor"
      },
      "source": [
        "## **ChEMBL Database**\n",
        "\n",
        "The [*ChEMBL Database*](https://www.ebi.ac.uk/chembl/) is a database that contains curated bioactivity data of more than 2 million compounds\n",
        "[Data as of March 19, 2022; ChEMBL version 30]."
      ]
    },
    {
      "cell_type": "markdown",
      "metadata": {
        "id": "iryGAwAIQ4yf"
      },
      "source": [
        "## **Installing libraries**"
      ]
    },
    {
      "cell_type": "markdown",
      "metadata": {},
      "source": [
        "*Install* the ChEMBL web service package so that we can retrieve bioactivity data from the ChEMBL Database."
      ]
    },
    {
      "cell_type": "code",
      "execution_count": 1,
      "metadata": {},
      "outputs": [
        {
          "name": "stdout",
          "output_type": "stream",
          "text": [
            "Requirement already satisfied: chembl_webresource_client in /home/amin/miniconda3/lib/python3.9/site-packages (0.10.7)\n",
            "Requirement already satisfied: requests-cache~=0.7.0 in /home/amin/miniconda3/lib/python3.9/site-packages (from chembl_webresource_client) (0.7.5)\n",
            "Requirement already satisfied: easydict in /home/amin/miniconda3/lib/python3.9/site-packages (from chembl_webresource_client) (1.9)\n",
            "Requirement already satisfied: urllib3 in /home/amin/miniconda3/lib/python3.9/site-packages (from chembl_webresource_client) (1.26.7)\n",
            "Requirement already satisfied: requests>=2.18.4 in /home/amin/miniconda3/lib/python3.9/site-packages (from chembl_webresource_client) (2.27.1)\n",
            "Requirement already satisfied: charset-normalizer~=2.0.0 in /home/amin/miniconda3/lib/python3.9/site-packages (from requests>=2.18.4->chembl_webresource_client) (2.0.4)\n",
            "Requirement already satisfied: certifi>=2017.4.17 in /home/amin/.local/lib/python3.9/site-packages (from requests>=2.18.4->chembl_webresource_client) (2020.12.5)\n",
            "Requirement already satisfied: idna<4,>=2.5 in /home/amin/miniconda3/lib/python3.9/site-packages (from requests>=2.18.4->chembl_webresource_client) (3.3)\n",
            "Requirement already satisfied: pyyaml>=5.4 in /home/amin/miniconda3/lib/python3.9/site-packages (from requests-cache~=0.7.0->chembl_webresource_client) (6.0)\n",
            "Requirement already satisfied: url-normalize<2.0,>=1.4 in /home/amin/miniconda3/lib/python3.9/site-packages (from requests-cache~=0.7.0->chembl_webresource_client) (1.4.3)\n",
            "Requirement already satisfied: attrs<22.0,>=21.2 in /home/amin/miniconda3/lib/python3.9/site-packages (from requests-cache~=0.7.0->chembl_webresource_client) (21.4.0)\n",
            "Requirement already satisfied: itsdangerous>=2.0.1 in /home/amin/miniconda3/lib/python3.9/site-packages (from requests-cache~=0.7.0->chembl_webresource_client) (2.1.1)\n",
            "Requirement already satisfied: six in /home/amin/.local/lib/python3.9/site-packages (from url-normalize<2.0,>=1.4->requests-cache~=0.7.0->chembl_webresource_client) (1.16.0)\n",
            "\u001b[33mWARNING: You are using pip version 21.2.4; however, version 22.0.4 is available.\n",
            "You should consider upgrading via the '/home/amin/miniconda3/bin/python -m pip install --upgrade pip' command.\u001b[0m\n"
          ]
        }
      ],
      "source": [
        "! pip install chembl_webresource_client"
      ]
    },
    {
      "cell_type": "markdown",
      "metadata": {
        "id": "J0kJjL8gb5nX"
      },
      "source": [
        "## **Importing libraries**"
      ]
    },
    {
      "cell_type": "code",
      "execution_count": 2,
      "metadata": {},
      "outputs": [],
      "source": [
        "# Import necessary libraries\n",
        "import pandas as pd\n",
        "from chembl_webresource_client.new_client import new_client"
      ]
    },
    {
      "cell_type": "markdown",
      "metadata": {
        "id": "1FgUai1bfigC"
      },
      "source": [
        "## **Search for Target protein**"
      ]
    },
    {
      "cell_type": "markdown",
      "metadata": {},
      "source": [
        "### **Target search for Acetylcholinesterase**"
      ]
    },
    {
      "cell_type": "code",
      "execution_count": 3,
      "metadata": {},
      "outputs": [
        {
          "data": {
            "text/html": [
              "<div>\n",
              "<style scoped>\n",
              "    .dataframe tbody tr th:only-of-type {\n",
              "        vertical-align: middle;\n",
              "    }\n",
              "\n",
              "    .dataframe tbody tr th {\n",
              "        vertical-align: top;\n",
              "    }\n",
              "\n",
              "    .dataframe thead th {\n",
              "        text-align: right;\n",
              "    }\n",
              "</style>\n",
              "<table border=\"1\" class=\"dataframe\">\n",
              "  <thead>\n",
              "    <tr style=\"text-align: right;\">\n",
              "      <th></th>\n",
              "      <th>cross_references</th>\n",
              "      <th>organism</th>\n",
              "      <th>pref_name</th>\n",
              "      <th>score</th>\n",
              "      <th>species_group_flag</th>\n",
              "      <th>target_chembl_id</th>\n",
              "      <th>target_components</th>\n",
              "      <th>target_type</th>\n",
              "      <th>tax_id</th>\n",
              "    </tr>\n",
              "  </thead>\n",
              "  <tbody>\n",
              "    <tr>\n",
              "      <th>0</th>\n",
              "      <td>[{'xref_id': 'P22303', 'xref_name': None, 'xre...</td>\n",
              "      <td>Homo sapiens</td>\n",
              "      <td>Acetylcholinesterase</td>\n",
              "      <td>27.0</td>\n",
              "      <td>False</td>\n",
              "      <td>CHEMBL220</td>\n",
              "      <td>[{'accession': 'P22303', 'component_descriptio...</td>\n",
              "      <td>SINGLE PROTEIN</td>\n",
              "      <td>9606</td>\n",
              "    </tr>\n",
              "    <tr>\n",
              "      <th>1</th>\n",
              "      <td>[]</td>\n",
              "      <td>Homo sapiens</td>\n",
              "      <td>Cholinesterases; ACHE &amp; BCHE</td>\n",
              "      <td>27.0</td>\n",
              "      <td>False</td>\n",
              "      <td>CHEMBL2095233</td>\n",
              "      <td>[{'accession': 'P06276', 'component_descriptio...</td>\n",
              "      <td>SELECTIVITY GROUP</td>\n",
              "      <td>9606</td>\n",
              "    </tr>\n",
              "    <tr>\n",
              "      <th>2</th>\n",
              "      <td>[]</td>\n",
              "      <td>Drosophila melanogaster</td>\n",
              "      <td>Acetylcholinesterase</td>\n",
              "      <td>17.0</td>\n",
              "      <td>False</td>\n",
              "      <td>CHEMBL2242744</td>\n",
              "      <td>[{'accession': 'P07140', 'component_descriptio...</td>\n",
              "      <td>SINGLE PROTEIN</td>\n",
              "      <td>7227</td>\n",
              "    </tr>\n",
              "    <tr>\n",
              "      <th>3</th>\n",
              "      <td>[{'xref_id': 'P04058', 'xref_name': None, 'xre...</td>\n",
              "      <td>Torpedo californica</td>\n",
              "      <td>Acetylcholinesterase</td>\n",
              "      <td>15.0</td>\n",
              "      <td>False</td>\n",
              "      <td>CHEMBL4780</td>\n",
              "      <td>[{'accession': 'P04058', 'component_descriptio...</td>\n",
              "      <td>SINGLE PROTEIN</td>\n",
              "      <td>7787</td>\n",
              "    </tr>\n",
              "    <tr>\n",
              "      <th>4</th>\n",
              "      <td>[{'xref_id': 'P21836', 'xref_name': None, 'xre...</td>\n",
              "      <td>Mus musculus</td>\n",
              "      <td>Acetylcholinesterase</td>\n",
              "      <td>15.0</td>\n",
              "      <td>False</td>\n",
              "      <td>CHEMBL3198</td>\n",
              "      <td>[{'accession': 'P21836', 'component_descriptio...</td>\n",
              "      <td>SINGLE PROTEIN</td>\n",
              "      <td>10090</td>\n",
              "    </tr>\n",
              "    <tr>\n",
              "      <th>5</th>\n",
              "      <td>[{'xref_id': 'P37136', 'xref_name': None, 'xre...</td>\n",
              "      <td>Rattus norvegicus</td>\n",
              "      <td>Acetylcholinesterase</td>\n",
              "      <td>15.0</td>\n",
              "      <td>False</td>\n",
              "      <td>CHEMBL3199</td>\n",
              "      <td>[{'accession': 'P37136', 'component_descriptio...</td>\n",
              "      <td>SINGLE PROTEIN</td>\n",
              "      <td>10116</td>\n",
              "    </tr>\n",
              "    <tr>\n",
              "      <th>6</th>\n",
              "      <td>[{'xref_id': 'O42275', 'xref_name': None, 'xre...</td>\n",
              "      <td>Electrophorus electricus</td>\n",
              "      <td>Acetylcholinesterase</td>\n",
              "      <td>15.0</td>\n",
              "      <td>False</td>\n",
              "      <td>CHEMBL4078</td>\n",
              "      <td>[{'accession': 'O42275', 'component_descriptio...</td>\n",
              "      <td>SINGLE PROTEIN</td>\n",
              "      <td>8005</td>\n",
              "    </tr>\n",
              "    <tr>\n",
              "      <th>7</th>\n",
              "      <td>[{'xref_id': 'P23795', 'xref_name': None, 'xre...</td>\n",
              "      <td>Bos taurus</td>\n",
              "      <td>Acetylcholinesterase</td>\n",
              "      <td>15.0</td>\n",
              "      <td>False</td>\n",
              "      <td>CHEMBL4768</td>\n",
              "      <td>[{'accession': 'P23795', 'component_descriptio...</td>\n",
              "      <td>SINGLE PROTEIN</td>\n",
              "      <td>9913</td>\n",
              "    </tr>\n",
              "    <tr>\n",
              "      <th>8</th>\n",
              "      <td>[]</td>\n",
              "      <td>Anopheles gambiae</td>\n",
              "      <td>Acetylcholinesterase</td>\n",
              "      <td>15.0</td>\n",
              "      <td>False</td>\n",
              "      <td>CHEMBL2046266</td>\n",
              "      <td>[{'accession': 'Q869C3', 'component_descriptio...</td>\n",
              "      <td>SINGLE PROTEIN</td>\n",
              "      <td>7165</td>\n",
              "    </tr>\n",
              "    <tr>\n",
              "      <th>9</th>\n",
              "      <td>[]</td>\n",
              "      <td>Bemisia tabaci</td>\n",
              "      <td>AChE2</td>\n",
              "      <td>15.0</td>\n",
              "      <td>False</td>\n",
              "      <td>CHEMBL2366409</td>\n",
              "      <td>[{'accession': 'B3SST5', 'component_descriptio...</td>\n",
              "      <td>SINGLE PROTEIN</td>\n",
              "      <td>7038</td>\n",
              "    </tr>\n",
              "    <tr>\n",
              "      <th>10</th>\n",
              "      <td>[]</td>\n",
              "      <td>Leptinotarsa decemlineata</td>\n",
              "      <td>Acetylcholinesterase</td>\n",
              "      <td>15.0</td>\n",
              "      <td>False</td>\n",
              "      <td>CHEMBL2366490</td>\n",
              "      <td>[{'accession': 'Q27677', 'component_descriptio...</td>\n",
              "      <td>SINGLE PROTEIN</td>\n",
              "      <td>7539</td>\n",
              "    </tr>\n",
              "    <tr>\n",
              "      <th>11</th>\n",
              "      <td>[]</td>\n",
              "      <td>Nephotettix cincticeps</td>\n",
              "      <td>Ace-orthologous acetylcholinesterase</td>\n",
              "      <td>15.0</td>\n",
              "      <td>False</td>\n",
              "      <td>CHEMBL2366514</td>\n",
              "      <td>[{'accession': 'Q9NJH6', 'component_descriptio...</td>\n",
              "      <td>SINGLE PROTEIN</td>\n",
              "      <td>94400</td>\n",
              "    </tr>\n",
              "    <tr>\n",
              "      <th>12</th>\n",
              "      <td>[]</td>\n",
              "      <td>Gallus gallus</td>\n",
              "      <td>Acetylcholinesterase</td>\n",
              "      <td>15.0</td>\n",
              "      <td>False</td>\n",
              "      <td>CHEMBL3227914</td>\n",
              "      <td>[{'accession': 'P36196', 'component_descriptio...</td>\n",
              "      <td>SINGLE PROTEIN</td>\n",
              "      <td>9031</td>\n",
              "    </tr>\n",
              "    <tr>\n",
              "      <th>13</th>\n",
              "      <td>[]</td>\n",
              "      <td>Danio rerio</td>\n",
              "      <td>Acetylcholinesterase</td>\n",
              "      <td>15.0</td>\n",
              "      <td>False</td>\n",
              "      <td>CHEMBL3308995</td>\n",
              "      <td>[{'accession': 'Q9DDE3', 'component_descriptio...</td>\n",
              "      <td>SINGLE PROTEIN</td>\n",
              "      <td>7955</td>\n",
              "    </tr>\n",
              "    <tr>\n",
              "      <th>14</th>\n",
              "      <td>[]</td>\n",
              "      <td>Aedes aegypti</td>\n",
              "      <td>Acetylcholinesterase</td>\n",
              "      <td>15.0</td>\n",
              "      <td>False</td>\n",
              "      <td>CHEMBL4295607</td>\n",
              "      <td>[{'accession': 'Q6A2E2', 'component_descriptio...</td>\n",
              "      <td>SINGLE PROTEIN</td>\n",
              "      <td>7159</td>\n",
              "    </tr>\n",
              "    <tr>\n",
              "      <th>15</th>\n",
              "      <td>[{'xref_id': 'Q95P20', 'xref_name': None, 'xre...</td>\n",
              "      <td>Musca domestica</td>\n",
              "      <td>Acetylcholinesterase</td>\n",
              "      <td>14.0</td>\n",
              "      <td>False</td>\n",
              "      <td>CHEMBL5752</td>\n",
              "      <td>[{'accession': 'Q95P20', 'component_descriptio...</td>\n",
              "      <td>SINGLE PROTEIN</td>\n",
              "      <td>7370</td>\n",
              "    </tr>\n",
              "    <tr>\n",
              "      <th>16</th>\n",
              "      <td>[]</td>\n",
              "      <td>Plutella xylostella</td>\n",
              "      <td>Acetylcholinesterase</td>\n",
              "      <td>14.0</td>\n",
              "      <td>False</td>\n",
              "      <td>CHEMBL2242729</td>\n",
              "      <td>[{'accession': 'Q8MZM0', 'component_descriptio...</td>\n",
              "      <td>SINGLE PROTEIN</td>\n",
              "      <td>51655</td>\n",
              "    </tr>\n",
              "    <tr>\n",
              "      <th>17</th>\n",
              "      <td>[]</td>\n",
              "      <td>Musca domestica</td>\n",
              "      <td>Acetylcholinesterase</td>\n",
              "      <td>14.0</td>\n",
              "      <td>False</td>\n",
              "      <td>CHEMBL2242743</td>\n",
              "      <td>[{'accession': 'Q7YWJ9', 'component_descriptio...</td>\n",
              "      <td>SINGLE PROTEIN</td>\n",
              "      <td>7370</td>\n",
              "    </tr>\n",
              "    <tr>\n",
              "      <th>18</th>\n",
              "      <td>[]</td>\n",
              "      <td>Pediculus humanus capitis</td>\n",
              "      <td>Acetylcholinesterase</td>\n",
              "      <td>14.0</td>\n",
              "      <td>False</td>\n",
              "      <td>CHEMBL2362988</td>\n",
              "      <td>[{'accession': 'A2PZ98', 'component_descriptio...</td>\n",
              "      <td>SINGLE PROTEIN</td>\n",
              "      <td>121226</td>\n",
              "    </tr>\n",
              "    <tr>\n",
              "      <th>19</th>\n",
              "      <td>[]</td>\n",
              "      <td>Spodoptera litura</td>\n",
              "      <td>Acetylcholinesterase</td>\n",
              "      <td>14.0</td>\n",
              "      <td>False</td>\n",
              "      <td>CHEMBL2366422</td>\n",
              "      <td>[{'accession': 'C5IU80', 'component_descriptio...</td>\n",
              "      <td>SINGLE PROTEIN</td>\n",
              "      <td>69820</td>\n",
              "    </tr>\n",
              "    <tr>\n",
              "      <th>20</th>\n",
              "      <td>[]</td>\n",
              "      <td>Laodelphax striatella</td>\n",
              "      <td>Acetylcholinesterase</td>\n",
              "      <td>14.0</td>\n",
              "      <td>False</td>\n",
              "      <td>CHEMBL2366446</td>\n",
              "      <td>[{'accession': 'K4JQ36', 'component_descriptio...</td>\n",
              "      <td>SINGLE PROTEIN</td>\n",
              "      <td>195883</td>\n",
              "    </tr>\n",
              "    <tr>\n",
              "      <th>21</th>\n",
              "      <td>[]</td>\n",
              "      <td>Schizaphis graminum</td>\n",
              "      <td>Acetylcholinesterase</td>\n",
              "      <td>14.0</td>\n",
              "      <td>False</td>\n",
              "      <td>CHEMBL2366511</td>\n",
              "      <td>[{'accession': 'Q9BMJ1', 'component_descriptio...</td>\n",
              "      <td>SINGLE PROTEIN</td>\n",
              "      <td>13262</td>\n",
              "    </tr>\n",
              "    <tr>\n",
              "      <th>22</th>\n",
              "      <td>[]</td>\n",
              "      <td>Caenorhabditis elegans</td>\n",
              "      <td>Acetylcholinesterase 1</td>\n",
              "      <td>14.0</td>\n",
              "      <td>False</td>\n",
              "      <td>CHEMBL3341583</td>\n",
              "      <td>[{'accession': 'P38433', 'component_descriptio...</td>\n",
              "      <td>SINGLE PROTEIN</td>\n",
              "      <td>6239</td>\n",
              "    </tr>\n",
              "    <tr>\n",
              "      <th>23</th>\n",
              "      <td>[]</td>\n",
              "      <td>Rattus norvegicus</td>\n",
              "      <td>Acetylcholinesterase and butyrylcholinesterase...</td>\n",
              "      <td>13.0</td>\n",
              "      <td>False</td>\n",
              "      <td>CHEMBL2111475</td>\n",
              "      <td>[{'accession': 'P37136', 'component_descriptio...</td>\n",
              "      <td>SELECTIVITY GROUP</td>\n",
              "      <td>10116</td>\n",
              "    </tr>\n",
              "  </tbody>\n",
              "</table>\n",
              "</div>"
            ],
            "text/plain": [
              "                                     cross_references  \\\n",
              "0   [{'xref_id': 'P22303', 'xref_name': None, 'xre...   \n",
              "1                                                  []   \n",
              "2                                                  []   \n",
              "3   [{'xref_id': 'P04058', 'xref_name': None, 'xre...   \n",
              "4   [{'xref_id': 'P21836', 'xref_name': None, 'xre...   \n",
              "5   [{'xref_id': 'P37136', 'xref_name': None, 'xre...   \n",
              "6   [{'xref_id': 'O42275', 'xref_name': None, 'xre...   \n",
              "7   [{'xref_id': 'P23795', 'xref_name': None, 'xre...   \n",
              "8                                                  []   \n",
              "9                                                  []   \n",
              "10                                                 []   \n",
              "11                                                 []   \n",
              "12                                                 []   \n",
              "13                                                 []   \n",
              "14                                                 []   \n",
              "15  [{'xref_id': 'Q95P20', 'xref_name': None, 'xre...   \n",
              "16                                                 []   \n",
              "17                                                 []   \n",
              "18                                                 []   \n",
              "19                                                 []   \n",
              "20                                                 []   \n",
              "21                                                 []   \n",
              "22                                                 []   \n",
              "23                                                 []   \n",
              "\n",
              "                     organism  \\\n",
              "0                Homo sapiens   \n",
              "1                Homo sapiens   \n",
              "2     Drosophila melanogaster   \n",
              "3         Torpedo californica   \n",
              "4                Mus musculus   \n",
              "5           Rattus norvegicus   \n",
              "6    Electrophorus electricus   \n",
              "7                  Bos taurus   \n",
              "8           Anopheles gambiae   \n",
              "9              Bemisia tabaci   \n",
              "10  Leptinotarsa decemlineata   \n",
              "11     Nephotettix cincticeps   \n",
              "12              Gallus gallus   \n",
              "13                Danio rerio   \n",
              "14              Aedes aegypti   \n",
              "15            Musca domestica   \n",
              "16        Plutella xylostella   \n",
              "17            Musca domestica   \n",
              "18  Pediculus humanus capitis   \n",
              "19          Spodoptera litura   \n",
              "20      Laodelphax striatella   \n",
              "21        Schizaphis graminum   \n",
              "22     Caenorhabditis elegans   \n",
              "23          Rattus norvegicus   \n",
              "\n",
              "                                            pref_name  score  \\\n",
              "0                                Acetylcholinesterase   27.0   \n",
              "1                        Cholinesterases; ACHE & BCHE   27.0   \n",
              "2                                Acetylcholinesterase   17.0   \n",
              "3                                Acetylcholinesterase   15.0   \n",
              "4                                Acetylcholinesterase   15.0   \n",
              "5                                Acetylcholinesterase   15.0   \n",
              "6                                Acetylcholinesterase   15.0   \n",
              "7                                Acetylcholinesterase   15.0   \n",
              "8                                Acetylcholinesterase   15.0   \n",
              "9                                               AChE2   15.0   \n",
              "10                               Acetylcholinesterase   15.0   \n",
              "11               Ace-orthologous acetylcholinesterase   15.0   \n",
              "12                               Acetylcholinesterase   15.0   \n",
              "13                               Acetylcholinesterase   15.0   \n",
              "14                               Acetylcholinesterase   15.0   \n",
              "15                               Acetylcholinesterase   14.0   \n",
              "16                               Acetylcholinesterase   14.0   \n",
              "17                               Acetylcholinesterase   14.0   \n",
              "18                               Acetylcholinesterase   14.0   \n",
              "19                               Acetylcholinesterase   14.0   \n",
              "20                               Acetylcholinesterase   14.0   \n",
              "21                               Acetylcholinesterase   14.0   \n",
              "22                             Acetylcholinesterase 1   14.0   \n",
              "23  Acetylcholinesterase and butyrylcholinesterase...   13.0   \n",
              "\n",
              "    species_group_flag target_chembl_id  \\\n",
              "0                False        CHEMBL220   \n",
              "1                False    CHEMBL2095233   \n",
              "2                False    CHEMBL2242744   \n",
              "3                False       CHEMBL4780   \n",
              "4                False       CHEMBL3198   \n",
              "5                False       CHEMBL3199   \n",
              "6                False       CHEMBL4078   \n",
              "7                False       CHEMBL4768   \n",
              "8                False    CHEMBL2046266   \n",
              "9                False    CHEMBL2366409   \n",
              "10               False    CHEMBL2366490   \n",
              "11               False    CHEMBL2366514   \n",
              "12               False    CHEMBL3227914   \n",
              "13               False    CHEMBL3308995   \n",
              "14               False    CHEMBL4295607   \n",
              "15               False       CHEMBL5752   \n",
              "16               False    CHEMBL2242729   \n",
              "17               False    CHEMBL2242743   \n",
              "18               False    CHEMBL2362988   \n",
              "19               False    CHEMBL2366422   \n",
              "20               False    CHEMBL2366446   \n",
              "21               False    CHEMBL2366511   \n",
              "22               False    CHEMBL3341583   \n",
              "23               False    CHEMBL2111475   \n",
              "\n",
              "                                    target_components        target_type  \\\n",
              "0   [{'accession': 'P22303', 'component_descriptio...     SINGLE PROTEIN   \n",
              "1   [{'accession': 'P06276', 'component_descriptio...  SELECTIVITY GROUP   \n",
              "2   [{'accession': 'P07140', 'component_descriptio...     SINGLE PROTEIN   \n",
              "3   [{'accession': 'P04058', 'component_descriptio...     SINGLE PROTEIN   \n",
              "4   [{'accession': 'P21836', 'component_descriptio...     SINGLE PROTEIN   \n",
              "5   [{'accession': 'P37136', 'component_descriptio...     SINGLE PROTEIN   \n",
              "6   [{'accession': 'O42275', 'component_descriptio...     SINGLE PROTEIN   \n",
              "7   [{'accession': 'P23795', 'component_descriptio...     SINGLE PROTEIN   \n",
              "8   [{'accession': 'Q869C3', 'component_descriptio...     SINGLE PROTEIN   \n",
              "9   [{'accession': 'B3SST5', 'component_descriptio...     SINGLE PROTEIN   \n",
              "10  [{'accession': 'Q27677', 'component_descriptio...     SINGLE PROTEIN   \n",
              "11  [{'accession': 'Q9NJH6', 'component_descriptio...     SINGLE PROTEIN   \n",
              "12  [{'accession': 'P36196', 'component_descriptio...     SINGLE PROTEIN   \n",
              "13  [{'accession': 'Q9DDE3', 'component_descriptio...     SINGLE PROTEIN   \n",
              "14  [{'accession': 'Q6A2E2', 'component_descriptio...     SINGLE PROTEIN   \n",
              "15  [{'accession': 'Q95P20', 'component_descriptio...     SINGLE PROTEIN   \n",
              "16  [{'accession': 'Q8MZM0', 'component_descriptio...     SINGLE PROTEIN   \n",
              "17  [{'accession': 'Q7YWJ9', 'component_descriptio...     SINGLE PROTEIN   \n",
              "18  [{'accession': 'A2PZ98', 'component_descriptio...     SINGLE PROTEIN   \n",
              "19  [{'accession': 'C5IU80', 'component_descriptio...     SINGLE PROTEIN   \n",
              "20  [{'accession': 'K4JQ36', 'component_descriptio...     SINGLE PROTEIN   \n",
              "21  [{'accession': 'Q9BMJ1', 'component_descriptio...     SINGLE PROTEIN   \n",
              "22  [{'accession': 'P38433', 'component_descriptio...     SINGLE PROTEIN   \n",
              "23  [{'accession': 'P37136', 'component_descriptio...  SELECTIVITY GROUP   \n",
              "\n",
              "    tax_id  \n",
              "0     9606  \n",
              "1     9606  \n",
              "2     7227  \n",
              "3     7787  \n",
              "4    10090  \n",
              "5    10116  \n",
              "6     8005  \n",
              "7     9913  \n",
              "8     7165  \n",
              "9     7038  \n",
              "10    7539  \n",
              "11   94400  \n",
              "12    9031  \n",
              "13    7955  \n",
              "14    7159  \n",
              "15    7370  \n",
              "16   51655  \n",
              "17    7370  \n",
              "18  121226  \n",
              "19   69820  \n",
              "20  195883  \n",
              "21   13262  \n",
              "22    6239  \n",
              "23   10116  "
            ]
          },
          "execution_count": 3,
          "metadata": {},
          "output_type": "execute_result"
        }
      ],
      "source": [
        "# Target search for coronavirus\n",
        "target = new_client.target\n",
        "target_query = target.search('acetylcholinesterase')\n",
        "targets = pd.DataFrame.from_dict(target_query)\n",
        "targets"
      ]
    },
    {
      "cell_type": "markdown",
      "metadata": {},
      "source": [
        "### **Select and retrieve bioactivity data for *Human Acetylcholinesterase* (first entry)**"
      ]
    },
    {
      "cell_type": "markdown",
      "metadata": {},
      "source": [
        "We will assign the first entry (which corresponds to the target protein, *Human Acetylcholinesterase*) to the ***selected_target*** variable "
      ]
    },
    {
      "cell_type": "code",
      "execution_count": 4,
      "metadata": {},
      "outputs": [
        {
          "data": {
            "text/plain": [
              "'CHEMBL220'"
            ]
          },
          "execution_count": 4,
          "metadata": {},
          "output_type": "execute_result"
        }
      ],
      "source": [
        "selected_target = targets.target_chembl_id[0]\n",
        "selected_target"
      ]
    },
    {
      "cell_type": "markdown",
      "metadata": {},
      "source": [
        "Here, we will retrieve only bioactivity data for *Human Acetylcholinesterase* (CHEMBL220) that are reported as pChEMBL values."
      ]
    },
    {
      "cell_type": "code",
      "execution_count": 5,
      "metadata": {},
      "outputs": [],
      "source": [
        "activity = new_client.activity\n",
        "res = activity.filter(target_chembl_id=selected_target).filter(standard_type=\"IC50\")"
      ]
    },
    {
      "cell_type": "code",
      "execution_count": 6,
      "metadata": {},
      "outputs": [],
      "source": [
        "df = pd.DataFrame.from_dict(res)"
      ]
    },
    {
      "cell_type": "code",
      "execution_count": 7,
      "metadata": {},
      "outputs": [
        {
          "data": {
            "text/html": [
              "<div>\n",
              "<style scoped>\n",
              "    .dataframe tbody tr th:only-of-type {\n",
              "        vertical-align: middle;\n",
              "    }\n",
              "\n",
              "    .dataframe tbody tr th {\n",
              "        vertical-align: top;\n",
              "    }\n",
              "\n",
              "    .dataframe thead th {\n",
              "        text-align: right;\n",
              "    }\n",
              "</style>\n",
              "<table border=\"1\" class=\"dataframe\">\n",
              "  <thead>\n",
              "    <tr style=\"text-align: right;\">\n",
              "      <th></th>\n",
              "      <th>activity_comment</th>\n",
              "      <th>activity_id</th>\n",
              "      <th>activity_properties</th>\n",
              "      <th>assay_chembl_id</th>\n",
              "      <th>assay_description</th>\n",
              "      <th>assay_type</th>\n",
              "      <th>assay_variant_accession</th>\n",
              "      <th>assay_variant_mutation</th>\n",
              "      <th>bao_endpoint</th>\n",
              "      <th>bao_format</th>\n",
              "      <th>...</th>\n",
              "      <th>target_organism</th>\n",
              "      <th>target_pref_name</th>\n",
              "      <th>target_tax_id</th>\n",
              "      <th>text_value</th>\n",
              "      <th>toid</th>\n",
              "      <th>type</th>\n",
              "      <th>units</th>\n",
              "      <th>uo_units</th>\n",
              "      <th>upper_value</th>\n",
              "      <th>value</th>\n",
              "    </tr>\n",
              "  </thead>\n",
              "  <tbody>\n",
              "    <tr>\n",
              "      <th>0</th>\n",
              "      <td>None</td>\n",
              "      <td>33969</td>\n",
              "      <td>[]</td>\n",
              "      <td>CHEMBL643384</td>\n",
              "      <td>Inhibitory concentration against acetylcholine...</td>\n",
              "      <td>B</td>\n",
              "      <td>None</td>\n",
              "      <td>None</td>\n",
              "      <td>BAO_0000190</td>\n",
              "      <td>BAO_0000357</td>\n",
              "      <td>...</td>\n",
              "      <td>Homo sapiens</td>\n",
              "      <td>Acetylcholinesterase</td>\n",
              "      <td>9606</td>\n",
              "      <td>None</td>\n",
              "      <td>None</td>\n",
              "      <td>IC50</td>\n",
              "      <td>uM</td>\n",
              "      <td>UO_0000065</td>\n",
              "      <td>None</td>\n",
              "      <td>0.75</td>\n",
              "    </tr>\n",
              "    <tr>\n",
              "      <th>1</th>\n",
              "      <td>None</td>\n",
              "      <td>37563</td>\n",
              "      <td>[]</td>\n",
              "      <td>CHEMBL643384</td>\n",
              "      <td>Inhibitory concentration against acetylcholine...</td>\n",
              "      <td>B</td>\n",
              "      <td>None</td>\n",
              "      <td>None</td>\n",
              "      <td>BAO_0000190</td>\n",
              "      <td>BAO_0000357</td>\n",
              "      <td>...</td>\n",
              "      <td>Homo sapiens</td>\n",
              "      <td>Acetylcholinesterase</td>\n",
              "      <td>9606</td>\n",
              "      <td>None</td>\n",
              "      <td>None</td>\n",
              "      <td>IC50</td>\n",
              "      <td>uM</td>\n",
              "      <td>UO_0000065</td>\n",
              "      <td>None</td>\n",
              "      <td>0.1</td>\n",
              "    </tr>\n",
              "    <tr>\n",
              "      <th>2</th>\n",
              "      <td>None</td>\n",
              "      <td>37565</td>\n",
              "      <td>[]</td>\n",
              "      <td>CHEMBL643384</td>\n",
              "      <td>Inhibitory concentration against acetylcholine...</td>\n",
              "      <td>B</td>\n",
              "      <td>None</td>\n",
              "      <td>None</td>\n",
              "      <td>BAO_0000190</td>\n",
              "      <td>BAO_0000357</td>\n",
              "      <td>...</td>\n",
              "      <td>Homo sapiens</td>\n",
              "      <td>Acetylcholinesterase</td>\n",
              "      <td>9606</td>\n",
              "      <td>None</td>\n",
              "      <td>None</td>\n",
              "      <td>IC50</td>\n",
              "      <td>uM</td>\n",
              "      <td>UO_0000065</td>\n",
              "      <td>None</td>\n",
              "      <td>50.0</td>\n",
              "    </tr>\n",
              "    <tr>\n",
              "      <th>3</th>\n",
              "      <td>None</td>\n",
              "      <td>38902</td>\n",
              "      <td>[]</td>\n",
              "      <td>CHEMBL643384</td>\n",
              "      <td>Inhibitory concentration against acetylcholine...</td>\n",
              "      <td>B</td>\n",
              "      <td>None</td>\n",
              "      <td>None</td>\n",
              "      <td>BAO_0000190</td>\n",
              "      <td>BAO_0000357</td>\n",
              "      <td>...</td>\n",
              "      <td>Homo sapiens</td>\n",
              "      <td>Acetylcholinesterase</td>\n",
              "      <td>9606</td>\n",
              "      <td>None</td>\n",
              "      <td>None</td>\n",
              "      <td>IC50</td>\n",
              "      <td>uM</td>\n",
              "      <td>UO_0000065</td>\n",
              "      <td>None</td>\n",
              "      <td>0.3</td>\n",
              "    </tr>\n",
              "    <tr>\n",
              "      <th>4</th>\n",
              "      <td>None</td>\n",
              "      <td>41170</td>\n",
              "      <td>[]</td>\n",
              "      <td>CHEMBL643384</td>\n",
              "      <td>Inhibitory concentration against acetylcholine...</td>\n",
              "      <td>B</td>\n",
              "      <td>None</td>\n",
              "      <td>None</td>\n",
              "      <td>BAO_0000190</td>\n",
              "      <td>BAO_0000357</td>\n",
              "      <td>...</td>\n",
              "      <td>Homo sapiens</td>\n",
              "      <td>Acetylcholinesterase</td>\n",
              "      <td>9606</td>\n",
              "      <td>None</td>\n",
              "      <td>None</td>\n",
              "      <td>IC50</td>\n",
              "      <td>uM</td>\n",
              "      <td>UO_0000065</td>\n",
              "      <td>None</td>\n",
              "      <td>0.8</td>\n",
              "    </tr>\n",
              "  </tbody>\n",
              "</table>\n",
              "<p>5 rows × 45 columns</p>\n",
              "</div>"
            ],
            "text/plain": [
              "  activity_comment  activity_id activity_properties assay_chembl_id  \\\n",
              "0             None        33969                  []    CHEMBL643384   \n",
              "1             None        37563                  []    CHEMBL643384   \n",
              "2             None        37565                  []    CHEMBL643384   \n",
              "3             None        38902                  []    CHEMBL643384   \n",
              "4             None        41170                  []    CHEMBL643384   \n",
              "\n",
              "                                   assay_description assay_type  \\\n",
              "0  Inhibitory concentration against acetylcholine...          B   \n",
              "1  Inhibitory concentration against acetylcholine...          B   \n",
              "2  Inhibitory concentration against acetylcholine...          B   \n",
              "3  Inhibitory concentration against acetylcholine...          B   \n",
              "4  Inhibitory concentration against acetylcholine...          B   \n",
              "\n",
              "  assay_variant_accession assay_variant_mutation bao_endpoint   bao_format  \\\n",
              "0                    None                   None  BAO_0000190  BAO_0000357   \n",
              "1                    None                   None  BAO_0000190  BAO_0000357   \n",
              "2                    None                   None  BAO_0000190  BAO_0000357   \n",
              "3                    None                   None  BAO_0000190  BAO_0000357   \n",
              "4                    None                   None  BAO_0000190  BAO_0000357   \n",
              "\n",
              "   ... target_organism      target_pref_name target_tax_id text_value  toid  \\\n",
              "0  ...    Homo sapiens  Acetylcholinesterase          9606       None  None   \n",
              "1  ...    Homo sapiens  Acetylcholinesterase          9606       None  None   \n",
              "2  ...    Homo sapiens  Acetylcholinesterase          9606       None  None   \n",
              "3  ...    Homo sapiens  Acetylcholinesterase          9606       None  None   \n",
              "4  ...    Homo sapiens  Acetylcholinesterase          9606       None  None   \n",
              "\n",
              "   type  units    uo_units upper_value value  \n",
              "0  IC50     uM  UO_0000065        None  0.75  \n",
              "1  IC50     uM  UO_0000065        None   0.1  \n",
              "2  IC50     uM  UO_0000065        None  50.0  \n",
              "3  IC50     uM  UO_0000065        None   0.3  \n",
              "4  IC50     uM  UO_0000065        None   0.8  \n",
              "\n",
              "[5 rows x 45 columns]"
            ]
          },
          "execution_count": 7,
          "metadata": {},
          "output_type": "execute_result"
        }
      ],
      "source": [
        "df.head()"
      ]
    },
    {
      "cell_type": "markdown",
      "metadata": {},
      "source": [
        "Finally we will save the resulting bioactivity data to a CSV file **bioactivity_data.csv**."
      ]
    },
    {
      "cell_type": "code",
      "execution_count": 8,
      "metadata": {},
      "outputs": [],
      "source": [
        "df.to_csv('../data/acetylcholinesterase_01_bioactivity_data_raw.csv', index=False)"
      ]
    },
    {
      "cell_type": "markdown",
      "metadata": {
        "id": "_GXMpFNUOn_8"
      },
      "source": [
        "## **Handling missing data**\n",
        "If any compounds has missing value for the **standard_value** and **canonical_smiles** column then drop it."
      ]
    },
    {
      "cell_type": "code",
      "execution_count": 9,
      "metadata": {},
      "outputs": [
        {
          "data": {
            "text/plain": [
              "(8205, 45)"
            ]
          },
          "execution_count": 9,
          "metadata": {},
          "output_type": "execute_result"
        }
      ],
      "source": [
        "df.shape"
      ]
    },
    {
      "cell_type": "code",
      "execution_count": 10,
      "metadata": {},
      "outputs": [
        {
          "name": "stderr",
          "output_type": "stream",
          "text": [
            "/tmp/ipykernel_39807/3033525518.py:2: UserWarning: Boolean Series key will be reindexed to match DataFrame index.\n",
            "  df2 = df2[df.canonical_smiles.notna()]\n"
          ]
        },
        {
          "data": {
            "text/plain": [
              "(6947, 45)"
            ]
          },
          "execution_count": 10,
          "metadata": {},
          "output_type": "execute_result"
        }
      ],
      "source": [
        "df2 = df[df.standard_value.notna()]\n",
        "df2 = df2[df.canonical_smiles.notna()]\n",
        "df2.shape"
      ]
    },
    {
      "cell_type": "code",
      "execution_count": 11,
      "metadata": {},
      "outputs": [
        {
          "data": {
            "text/plain": [
              "5664"
            ]
          },
          "execution_count": 11,
          "metadata": {},
          "output_type": "execute_result"
        }
      ],
      "source": [
        "len(df2.canonical_smiles.unique())"
      ]
    },
    {
      "cell_type": "code",
      "execution_count": 12,
      "metadata": {},
      "outputs": [
        {
          "data": {
            "text/plain": [
              "(5664, 45)"
            ]
          },
          "execution_count": 12,
          "metadata": {},
          "output_type": "execute_result"
        }
      ],
      "source": [
        "df2_nr = df2.drop_duplicates(['canonical_smiles'])\n",
        "df2_nr.shape"
      ]
    },
    {
      "cell_type": "markdown",
      "metadata": {
        "id": "5H4sSFAWhV9B"
      },
      "source": [
        "## **Data pre-processing of the bioactivity data**"
      ]
    },
    {
      "cell_type": "markdown",
      "metadata": {
        "id": "ZywB5K_Dlawb"
      },
      "source": [
        "---"
      ]
    },
    {
      "cell_type": "markdown",
      "metadata": {},
      "source": [
        "### **Combine the 3 columns (molecule_chembl_id,canonical_smiles,standard_value) and bioactivity_class into a DataFrame**"
      ]
    },
    {
      "cell_type": "code",
      "execution_count": 13,
      "metadata": {},
      "outputs": [
        {
          "data": {
            "text/html": [
              "<div>\n",
              "<style scoped>\n",
              "    .dataframe tbody tr th:only-of-type {\n",
              "        vertical-align: middle;\n",
              "    }\n",
              "\n",
              "    .dataframe tbody tr th {\n",
              "        vertical-align: top;\n",
              "    }\n",
              "\n",
              "    .dataframe thead th {\n",
              "        text-align: right;\n",
              "    }\n",
              "</style>\n",
              "<table border=\"1\" class=\"dataframe\">\n",
              "  <thead>\n",
              "    <tr style=\"text-align: right;\">\n",
              "      <th></th>\n",
              "      <th>molecule_chembl_id</th>\n",
              "      <th>canonical_smiles</th>\n",
              "      <th>standard_value</th>\n",
              "    </tr>\n",
              "  </thead>\n",
              "  <tbody>\n",
              "    <tr>\n",
              "      <th>0</th>\n",
              "      <td>CHEMBL133897</td>\n",
              "      <td>CCOc1nn(-c2cccc(OCc3ccccc3)c2)c(=O)o1</td>\n",
              "      <td>750.0</td>\n",
              "    </tr>\n",
              "    <tr>\n",
              "      <th>1</th>\n",
              "      <td>CHEMBL336398</td>\n",
              "      <td>O=C(N1CCCCC1)n1nc(-c2ccc(Cl)cc2)nc1SCC1CC1</td>\n",
              "      <td>100.0</td>\n",
              "    </tr>\n",
              "    <tr>\n",
              "      <th>2</th>\n",
              "      <td>CHEMBL131588</td>\n",
              "      <td>CN(C(=O)n1nc(-c2ccc(Cl)cc2)nc1SCC(F)(F)F)c1ccccc1</td>\n",
              "      <td>50000.0</td>\n",
              "    </tr>\n",
              "    <tr>\n",
              "      <th>3</th>\n",
              "      <td>CHEMBL130628</td>\n",
              "      <td>O=C(N1CCCCC1)n1nc(-c2ccc(Cl)cc2)nc1SCC(F)(F)F</td>\n",
              "      <td>300.0</td>\n",
              "    </tr>\n",
              "    <tr>\n",
              "      <th>4</th>\n",
              "      <td>CHEMBL130478</td>\n",
              "      <td>CSc1nc(-c2ccc(OC(F)(F)F)cc2)nn1C(=O)N(C)C</td>\n",
              "      <td>800.0</td>\n",
              "    </tr>\n",
              "    <tr>\n",
              "      <th>...</th>\n",
              "      <td>...</td>\n",
              "      <td>...</td>\n",
              "      <td>...</td>\n",
              "    </tr>\n",
              "    <tr>\n",
              "      <th>8195</th>\n",
              "      <td>CHEMBL4779440</td>\n",
              "      <td>Brc1ccc([N+]2=Cc3ccccc3CC2)cc1.[Br-]</td>\n",
              "      <td>10500.0</td>\n",
              "    </tr>\n",
              "    <tr>\n",
              "      <th>8196</th>\n",
              "      <td>CHEMBL417799</td>\n",
              "      <td>C[n+]1cc2c3c(ccc2c2ccc4cc5c(cc4c21)OCO5)OCO3</td>\n",
              "      <td>1220.0</td>\n",
              "    </tr>\n",
              "    <tr>\n",
              "      <th>8197</th>\n",
              "      <td>CHEMBL13045</td>\n",
              "      <td>COc1ccc2c(c[n+](C)c3c4cc5c(cc4ccc23)OCO5)c1OC</td>\n",
              "      <td>1450.0</td>\n",
              "    </tr>\n",
              "    <tr>\n",
              "      <th>8202</th>\n",
              "      <td>CHEMBL3085398</td>\n",
              "      <td>C=CC(C)(C)c1cc([C@@H]2CC(=O)c3c(O)cc(O)c(CC=C(...</td>\n",
              "      <td>28980.0</td>\n",
              "    </tr>\n",
              "    <tr>\n",
              "      <th>8203</th>\n",
              "      <td>CHEMBL253998</td>\n",
              "      <td>CC(C)=CCc1c(O)cc(O)c2c1O[C@H](c1ccccc1)CC2=O</td>\n",
              "      <td>6.4</td>\n",
              "    </tr>\n",
              "  </tbody>\n",
              "</table>\n",
              "<p>5664 rows × 3 columns</p>\n",
              "</div>"
            ],
            "text/plain": [
              "     molecule_chembl_id                                   canonical_smiles  \\\n",
              "0          CHEMBL133897              CCOc1nn(-c2cccc(OCc3ccccc3)c2)c(=O)o1   \n",
              "1          CHEMBL336398         O=C(N1CCCCC1)n1nc(-c2ccc(Cl)cc2)nc1SCC1CC1   \n",
              "2          CHEMBL131588  CN(C(=O)n1nc(-c2ccc(Cl)cc2)nc1SCC(F)(F)F)c1ccccc1   \n",
              "3          CHEMBL130628      O=C(N1CCCCC1)n1nc(-c2ccc(Cl)cc2)nc1SCC(F)(F)F   \n",
              "4          CHEMBL130478          CSc1nc(-c2ccc(OC(F)(F)F)cc2)nn1C(=O)N(C)C   \n",
              "...                 ...                                                ...   \n",
              "8195      CHEMBL4779440               Brc1ccc([N+]2=Cc3ccccc3CC2)cc1.[Br-]   \n",
              "8196       CHEMBL417799       C[n+]1cc2c3c(ccc2c2ccc4cc5c(cc4c21)OCO5)OCO3   \n",
              "8197        CHEMBL13045      COc1ccc2c(c[n+](C)c3c4cc5c(cc4ccc23)OCO5)c1OC   \n",
              "8202      CHEMBL3085398  C=CC(C)(C)c1cc([C@@H]2CC(=O)c3c(O)cc(O)c(CC=C(...   \n",
              "8203       CHEMBL253998       CC(C)=CCc1c(O)cc(O)c2c1O[C@H](c1ccccc1)CC2=O   \n",
              "\n",
              "     standard_value  \n",
              "0             750.0  \n",
              "1             100.0  \n",
              "2           50000.0  \n",
              "3             300.0  \n",
              "4             800.0  \n",
              "...             ...  \n",
              "8195        10500.0  \n",
              "8196         1220.0  \n",
              "8197         1450.0  \n",
              "8202        28980.0  \n",
              "8203            6.4  \n",
              "\n",
              "[5664 rows x 3 columns]"
            ]
          },
          "execution_count": 13,
          "metadata": {},
          "output_type": "execute_result"
        }
      ],
      "source": [
        "selection = ['molecule_chembl_id','canonical_smiles','standard_value']\n",
        "df3 = df2_nr[selection]\n",
        "df3"
      ]
    },
    {
      "cell_type": "markdown",
      "metadata": {},
      "source": [
        "Saves dataframe to CSV file"
      ]
    },
    {
      "cell_type": "code",
      "execution_count": 15,
      "metadata": {},
      "outputs": [],
      "source": [
        "df3.to_csv('../data/acetylcholinesterase_02_bioactivity_data_preprocessed.csv', index=False)"
      ]
    },
    {
      "cell_type": "markdown",
      "metadata": {},
      "source": [
        "### **Labeling compounds as either being active, inactive or intermediate**\n",
        "The bioactivity data is in the IC50 unit. Compounds having values of less than 1000 nM will be considered to be **active** while those greater than 10,000 nM will be considered to be **inactive**. As for those values in between 1,000 and 10,000 nM will be referred to as **intermediate**. "
      ]
    },
    {
      "cell_type": "code",
      "execution_count": 16,
      "metadata": {},
      "outputs": [],
      "source": [
        "df4 = pd.read_csv('../data/acetylcholinesterase_02_bioactivity_data_preprocessed.csv')"
      ]
    },
    {
      "cell_type": "code",
      "execution_count": 18,
      "metadata": {},
      "outputs": [],
      "source": [
        "bioactivity_threshold = []\n",
        "for i in df4.standard_value:\n",
        "  if float(i) >= 10000:\n",
        "    bioactivity_threshold.append(\"inactive\")\n",
        "  elif float(i) <= 1000:\n",
        "    bioactivity_threshold.append(\"active\")\n",
        "  else:\n",
        "    bioactivity_threshold.append(\"intermediate\")"
      ]
    },
    {
      "cell_type": "code",
      "execution_count": 19,
      "metadata": {},
      "outputs": [
        {
          "data": {
            "text/html": [
              "<div>\n",
              "<style scoped>\n",
              "    .dataframe tbody tr th:only-of-type {\n",
              "        vertical-align: middle;\n",
              "    }\n",
              "\n",
              "    .dataframe tbody tr th {\n",
              "        vertical-align: top;\n",
              "    }\n",
              "\n",
              "    .dataframe thead th {\n",
              "        text-align: right;\n",
              "    }\n",
              "</style>\n",
              "<table border=\"1\" class=\"dataframe\">\n",
              "  <thead>\n",
              "    <tr style=\"text-align: right;\">\n",
              "      <th></th>\n",
              "      <th>molecule_chembl_id</th>\n",
              "      <th>canonical_smiles</th>\n",
              "      <th>standard_value</th>\n",
              "      <th>class</th>\n",
              "    </tr>\n",
              "  </thead>\n",
              "  <tbody>\n",
              "    <tr>\n",
              "      <th>0</th>\n",
              "      <td>CHEMBL133897</td>\n",
              "      <td>CCOc1nn(-c2cccc(OCc3ccccc3)c2)c(=O)o1</td>\n",
              "      <td>750.0</td>\n",
              "      <td>active</td>\n",
              "    </tr>\n",
              "    <tr>\n",
              "      <th>1</th>\n",
              "      <td>CHEMBL336398</td>\n",
              "      <td>O=C(N1CCCCC1)n1nc(-c2ccc(Cl)cc2)nc1SCC1CC1</td>\n",
              "      <td>100.0</td>\n",
              "      <td>active</td>\n",
              "    </tr>\n",
              "    <tr>\n",
              "      <th>2</th>\n",
              "      <td>CHEMBL131588</td>\n",
              "      <td>CN(C(=O)n1nc(-c2ccc(Cl)cc2)nc1SCC(F)(F)F)c1ccccc1</td>\n",
              "      <td>50000.0</td>\n",
              "      <td>inactive</td>\n",
              "    </tr>\n",
              "    <tr>\n",
              "      <th>3</th>\n",
              "      <td>CHEMBL130628</td>\n",
              "      <td>O=C(N1CCCCC1)n1nc(-c2ccc(Cl)cc2)nc1SCC(F)(F)F</td>\n",
              "      <td>300.0</td>\n",
              "      <td>active</td>\n",
              "    </tr>\n",
              "    <tr>\n",
              "      <th>4</th>\n",
              "      <td>CHEMBL130478</td>\n",
              "      <td>CSc1nc(-c2ccc(OC(F)(F)F)cc2)nn1C(=O)N(C)C</td>\n",
              "      <td>800.0</td>\n",
              "      <td>active</td>\n",
              "    </tr>\n",
              "  </tbody>\n",
              "</table>\n",
              "</div>"
            ],
            "text/plain": [
              "  molecule_chembl_id                                   canonical_smiles  \\\n",
              "0       CHEMBL133897              CCOc1nn(-c2cccc(OCc3ccccc3)c2)c(=O)o1   \n",
              "1       CHEMBL336398         O=C(N1CCCCC1)n1nc(-c2ccc(Cl)cc2)nc1SCC1CC1   \n",
              "2       CHEMBL131588  CN(C(=O)n1nc(-c2ccc(Cl)cc2)nc1SCC(F)(F)F)c1ccccc1   \n",
              "3       CHEMBL130628      O=C(N1CCCCC1)n1nc(-c2ccc(Cl)cc2)nc1SCC(F)(F)F   \n",
              "4       CHEMBL130478          CSc1nc(-c2ccc(OC(F)(F)F)cc2)nn1C(=O)N(C)C   \n",
              "\n",
              "   standard_value     class  \n",
              "0           750.0    active  \n",
              "1           100.0    active  \n",
              "2         50000.0  inactive  \n",
              "3           300.0    active  \n",
              "4           800.0    active  "
            ]
          },
          "execution_count": 19,
          "metadata": {},
          "output_type": "execute_result"
        }
      ],
      "source": [
        "bioactivity_class = pd.Series(bioactivity_threshold, name='class')\n",
        "df5 = pd.concat([df4, bioactivity_class], axis=1)\n",
        "df5.head()"
      ]
    },
    {
      "cell_type": "markdown",
      "metadata": {},
      "source": [
        "Saves dataframe to CSV file"
      ]
    },
    {
      "cell_type": "code",
      "execution_count": 20,
      "metadata": {},
      "outputs": [],
      "source": [
        "df5.to_csv('../data/acetylcholinesterase_03_bioactivity_data_curated.csv', index=False)"
      ]
    },
    {
      "cell_type": "code",
      "execution_count": 22,
      "metadata": {},
      "outputs": [
        {
          "name": "stdout",
          "output_type": "stream",
          "text": [
            "  adding: ../data/part1/00_acetylcholinesterase_01_bioactivity_data_raw.csv (deflated 91%)\n",
            "  adding: ../data/part1/01_acetylcholinesterase_02_bioactivity_data_preprocessed.csv (deflated 81%)\n",
            "  adding: ../data/part1/02_acetylcholinesterase_03_bioactivity_data_curated.csv (deflated 82%)\n"
          ]
        }
      ],
      "source": [
        "! zip ../data/acetylcholinesterase.zip ../data/*.csv"
      ]
    },
    {
      "cell_type": "code",
      "execution_count": 23,
      "metadata": {},
      "outputs": [
        {
          "name": "stdout",
          "output_type": "stream",
          "text": [
            "total 60\n",
            "-rw-r--r-- 1 amin amin 57862 Mar 20 22:13 CDD_ML_Part_1_Bioactivity_Data_Concised_Acetylcholinesterase.ipynb\n"
          ]
        }
      ],
      "source": [
        "! ls -l"
      ]
    }
  ],
  "metadata": {
    "colab": {
      "collapsed_sections": [],
      "name": "CDD-ML-Part-1-Bioactivity-Data-Concised-Acetylcholinesterase.ipynb",
      "provenance": []
    },
    "kernelspec": {
      "display_name": "Python 3",
      "name": "python3"
    },
    "language_info": {
      "codemirror_mode": {
        "name": "ipython",
        "version": 3
      },
      "file_extension": ".py",
      "mimetype": "text/x-python",
      "name": "python",
      "nbconvert_exporter": "python",
      "pygments_lexer": "ipython3",
      "version": "3.9.7"
    }
  },
  "nbformat": 4,
  "nbformat_minor": 0
}
