{
  "cells": [
    {
      "cell_type": "markdown",
      "metadata": {
        "id": "wSFbIMb87cHu"
      },
      "source": [
        "# **Bioinformatics Project - Computational Drug Discovery [Part 1] Download Bioactivity Data (Concised version)**\n",
        "\n",
        "In this Jupyter notebook, we will be building a real-life **data science project** that you can include in your **data science portfolio**. Particularly, we will be building a machine learning model using the ChEMBL bioactivity data.\n",
        "\n",
        "In **Part 1**, we will be performing Data Collection and Pre-Processing from the ChEMBL Database.\n",
        "\n",
        "\n",
        "---"
      ]
    },
    {
      "cell_type": "markdown",
      "metadata": {
        "id": "3iQiERxumDor"
      },
      "source": [
        "## **ChEMBL Database**\n",
        "\n",
        "The [*ChEMBL Database*](https://www.ebi.ac.uk/chembl/) is a database that contains curated bioactivity data of more than 2 million compounds\n",
        "[Data as of March 19, 2022; ChEMBL version 30]."
      ]
    },
    {
      "cell_type": "markdown",
      "metadata": {
        "id": "iryGAwAIQ4yf"
      },
      "source": [
        "## **Installing libraries**"
      ]
    },
    {
      "cell_type": "markdown",
      "metadata": {},
      "source": [
        "*Install* the ChEMBL web service package so that we can retrieve bioactivity data from the ChEMBL Database."
      ]
    },
    {
      "cell_type": "code",
      "execution_count": 1,
      "metadata": {},
      "outputs": [
        {
          "name": "stdout",
          "output_type": "stream",
          "text": [
            "Collecting chembl_webresource_client\n",
            "  Downloading chembl_webresource_client-0.10.7-py3-none-any.whl (55 kB)\n",
            "\u001b[K     |████████████████████████████████| 55 kB 476 kB/s eta 0:00:01\n",
            "\u001b[?25hCollecting requests-cache~=0.7.0\n",
            "  Downloading requests_cache-0.7.5-py3-none-any.whl (39 kB)\n",
            "Requirement already satisfied: requests>=2.18.4 in /home/amin/miniconda3/lib/python3.9/site-packages (from chembl_webresource_client) (2.27.1)\n",
            "Collecting easydict\n",
            "  Downloading easydict-1.9.tar.gz (6.4 kB)\n",
            "Requirement already satisfied: urllib3 in /home/amin/miniconda3/lib/python3.9/site-packages (from chembl_webresource_client) (1.26.7)\n",
            "Requirement already satisfied: certifi>=2017.4.17 in /home/amin/.local/lib/python3.9/site-packages (from requests>=2.18.4->chembl_webresource_client) (2020.12.5)\n",
            "Requirement already satisfied: idna<4,>=2.5 in /home/amin/miniconda3/lib/python3.9/site-packages (from requests>=2.18.4->chembl_webresource_client) (3.3)\n",
            "Requirement already satisfied: charset-normalizer~=2.0.0 in /home/amin/miniconda3/lib/python3.9/site-packages (from requests>=2.18.4->chembl_webresource_client) (2.0.4)\n",
            "Collecting itsdangerous>=2.0.1\n",
            "  Downloading itsdangerous-2.1.1-py3-none-any.whl (15 kB)\n",
            "Collecting pyyaml>=5.4\n",
            "  Downloading PyYAML-6.0-cp39-cp39-manylinux_2_5_x86_64.manylinux1_x86_64.manylinux_2_12_x86_64.manylinux2010_x86_64.whl (661 kB)\n",
            "\u001b[K     |████████████████████████████████| 661 kB 581 kB/s eta 0:00:01\n",
            "\u001b[?25hCollecting attrs<22.0,>=21.2\n",
            "  Downloading attrs-21.4.0-py2.py3-none-any.whl (60 kB)\n",
            "\u001b[K     |████████████████████████████████| 60 kB 745 kB/s eta 0:00:01\n",
            "\u001b[?25hCollecting url-normalize<2.0,>=1.4\n",
            "  Downloading url_normalize-1.4.3-py2.py3-none-any.whl (6.8 kB)\n",
            "Requirement already satisfied: six in /home/amin/.local/lib/python3.9/site-packages (from url-normalize<2.0,>=1.4->requests-cache~=0.7.0->chembl_webresource_client) (1.16.0)\n",
            "Building wheels for collected packages: easydict\n",
            "  Building wheel for easydict (setup.py) ... \u001b[?25ldone\n",
            "\u001b[?25h  Created wheel for easydict: filename=easydict-1.9-py3-none-any.whl size=6361 sha256=c6baa6b7de284c1b66862cabbf60e2debcfa40d54f8c6a5ffc74f2ed39b2f359\n",
            "  Stored in directory: /home/amin/.cache/pip/wheels/b2/1c/36/fd8efc3fa029b1445d869f359ec13e8fbce7fc9e81505bca66\n",
            "Successfully built easydict\n",
            "Installing collected packages: url-normalize, pyyaml, itsdangerous, attrs, requests-cache, easydict, chembl-webresource-client\n",
            "Successfully installed attrs-21.4.0 chembl-webresource-client-0.10.7 easydict-1.9 itsdangerous-2.1.1 pyyaml-6.0 requests-cache-0.7.5 url-normalize-1.4.3\n",
            "\u001b[33mWARNING: You are using pip version 21.2.4; however, version 22.0.4 is available.\n",
            "You should consider upgrading via the '/home/amin/miniconda3/bin/python -m pip install --upgrade pip' command.\u001b[0m\n"
          ]
        }
      ],
      "source": [
        "! pip install chembl_webresource_client"
      ]
    },
    {
      "cell_type": "markdown",
      "metadata": {
        "id": "J0kJjL8gb5nX"
      },
      "source": [
        "## **Importing libraries**"
      ]
    },
    {
      "cell_type": "code",
      "execution_count": null,
      "metadata": {},
      "outputs": [],
      "source": [
        "# Import necessary libraries\n",
        "import pandas as pd\n",
        "from chembl_webresource_client.new_client import new_client"
      ]
    },
    {
      "cell_type": "markdown",
      "metadata": {
        "id": "1FgUai1bfigC"
      },
      "source": [
        "## **Search for Target protein**"
      ]
    },
    {
      "cell_type": "markdown",
      "metadata": {
        "id": "fQ78N26Fg15T"
      },
      "source": [
        "Finally we will save the resulting bioactivity data to a CSV file **bioactivity_data.csv**."
      ]
    },
    {
      "cell_type": "markdown",
      "metadata": {
        "id": "_GXMpFNUOn_8"
      },
      "source": [
        "## **Handling missing data**\n",
        "If any compounds has missing value for the **standard_value** and **canonical_smiles** column then drop it."
      ]
    },
    {
      "cell_type": "markdown",
      "metadata": {
        "id": "5H4sSFAWhV9B"
      },
      "source": [
        "## **Data pre-processing of the bioactivity data**"
      ]
    },
    {
      "cell_type": "markdown",
      "metadata": {
        "id": "ZywB5K_Dlawb"
      },
      "source": [
        "---"
      ]
    }
  ],
  "metadata": {
    "colab": {
      "collapsed_sections": [],
      "name": "CDD-ML-Part-1-Bioactivity-Data-Concised-Acetylcholinesterase.ipynb",
      "provenance": []
    },
    "kernelspec": {
      "display_name": "Python 3",
      "name": "python3"
    },
    "language_info": {
      "codemirror_mode": {
        "name": "ipython",
        "version": 3
      },
      "file_extension": ".py",
      "mimetype": "text/x-python",
      "name": "python",
      "nbconvert_exporter": "python",
      "pygments_lexer": "ipython3",
      "version": "3.9.7"
    }
  },
  "nbformat": 4,
  "nbformat_minor": 0
}
