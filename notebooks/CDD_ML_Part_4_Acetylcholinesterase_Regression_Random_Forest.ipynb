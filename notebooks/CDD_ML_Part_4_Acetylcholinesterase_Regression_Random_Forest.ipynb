{
  "cells": [
    {
      "cell_type": "markdown",
      "metadata": {
        "id": "7AAfh_j7hSwQ"
      },
      "source": [
        "# **Bioinformatics Project - Computational Drug Discovery [Part 4] Regression Models with Random Forest**\n",
        "\n",
        "In this Jupyter notebook, we will be building a real-life **data science project** that you can include in your **data science portfolio**. Particularly, we will be building a machine learning model using the ChEMBL bioactivity data.\n",
        "\n",
        "In **Part 4**, we will be building a regression model of acetylcholinesterase inhibitors using the random forest algorithm.\n",
        "\n",
        "---"
      ]
    },
    {
      "cell_type": "markdown",
      "metadata": {
        "id": "jw7MqTMphSwR"
      },
      "source": [
        "## **1. Import libraries**"
      ]
    },
    {
      "cell_type": "code",
      "execution_count": 1,
      "metadata": {},
      "outputs": [],
      "source": [
        "import pandas as pd\n",
        "import seaborn as sns\n",
        "from sklearn.model_selection import train_test_split\n",
        "from sklearn.ensemble import RandomForestRegressor"
      ]
    },
    {
      "cell_type": "markdown",
      "metadata": {
        "id": "0GvT3PArhSwX"
      },
      "source": [
        "## **2. Load the data set**"
      ]
    },
    {
      "cell_type": "code",
      "execution_count": 2,
      "metadata": {},
      "outputs": [
        {
          "data": {
            "text/plain": [
              "(5663, 882)"
            ]
          },
          "execution_count": 2,
          "metadata": {},
          "output_type": "execute_result"
        }
      ],
      "source": [
        "df = pd.read_csv('../data/acetylcholinesterase_06_bioactivity_data_3class_pIC50_pubchem_fp.csv')\n",
        "df.shape"
      ]
    },
    {
      "cell_type": "markdown",
      "metadata": {
        "id": "kuiiC0xthSwb"
      },
      "source": [
        "## **3. Input features**\n",
        "The ***Acetylcholinesterase*** data set contains 881 input features and 1 output variable (pIC50 values)."
      ]
    },
    {
      "cell_type": "markdown",
      "metadata": {
        "id": "iCeQQn0uhSwb"
      },
      "source": [
        "### **3.1. Input features**"
      ]
    },
    {
      "cell_type": "code",
      "execution_count": 3,
      "metadata": {},
      "outputs": [],
      "source": [
        "X = df.drop('pIC50', axis=1)"
      ]
    },
    {
      "cell_type": "markdown",
      "metadata": {
        "id": "sGQjCQtfhSwg"
      },
      "source": [
        "### **3.2. Output features**"
      ]
    },
    {
      "cell_type": "code",
      "execution_count": 4,
      "metadata": {},
      "outputs": [],
      "source": [
        "Y = df.pIC50"
      ]
    },
    {
      "cell_type": "markdown",
      "metadata": {
        "id": "E-zGSqXohSwx"
      },
      "source": [
        "### **3.3. Let's examine the data dimension**"
      ]
    },
    {
      "cell_type": "code",
      "execution_count": 5,
      "metadata": {},
      "outputs": [
        {
          "data": {
            "text/plain": [
              "(5663, 881)"
            ]
          },
          "execution_count": 5,
          "metadata": {},
          "output_type": "execute_result"
        }
      ],
      "source": [
        "X.shape"
      ]
    },
    {
      "cell_type": "code",
      "execution_count": 6,
      "metadata": {},
      "outputs": [
        {
          "data": {
            "text/plain": [
              "(5663,)"
            ]
          },
          "execution_count": 6,
          "metadata": {},
          "output_type": "execute_result"
        }
      ],
      "source": [
        "Y.shape"
      ]
    },
    {
      "cell_type": "markdown",
      "metadata": {
        "id": "0qQCpX097qf_"
      },
      "source": [
        "### **3.4. Remove low variance features**"
      ]
    },
    {
      "cell_type": "code",
      "execution_count": 7,
      "metadata": {},
      "outputs": [],
      "source": [
        "from sklearn.feature_selection import VarianceThreshold\n",
        "selection = VarianceThreshold(threshold=(.8 * (1 - .8)))    \n",
        "X = selection.fit_transform(X)"
      ]
    },
    {
      "cell_type": "code",
      "execution_count": 8,
      "metadata": {},
      "outputs": [
        {
          "data": {
            "text/plain": [
              "(5663, 142)"
            ]
          },
          "execution_count": 8,
          "metadata": {},
          "output_type": "execute_result"
        }
      ],
      "source": [
        "X.shape"
      ]
    },
    {
      "cell_type": "markdown",
      "metadata": {
        "id": "AjhOlkOVhSxR"
      },
      "source": [
        "## **4. Data split (80/20 ratio)**"
      ]
    },
    {
      "cell_type": "code",
      "execution_count": 9,
      "metadata": {},
      "outputs": [],
      "source": [
        "X_train, X_test, Y_train, Y_test = train_test_split(X, Y, test_size=0.2)"
      ]
    },
    {
      "cell_type": "code",
      "execution_count": 10,
      "metadata": {},
      "outputs": [
        {
          "data": {
            "text/plain": [
              "((4530, 142), (4530,))"
            ]
          },
          "execution_count": 10,
          "metadata": {},
          "output_type": "execute_result"
        }
      ],
      "source": [
        "X_train.shape, Y_train.shape"
      ]
    },
    {
      "cell_type": "code",
      "execution_count": 11,
      "metadata": {},
      "outputs": [
        {
          "data": {
            "text/plain": [
              "((1133, 142), (1133,))"
            ]
          },
          "execution_count": 11,
          "metadata": {},
          "output_type": "execute_result"
        }
      ],
      "source": [
        "X_test.shape, Y_test.shape"
      ]
    },
    {
      "cell_type": "markdown",
      "metadata": {
        "id": "PYsE-tIAhSw3"
      },
      "source": [
        "## **5. Building a Regression Model using Random Forest**"
      ]
    },
    {
      "cell_type": "code",
      "execution_count": 12,
      "metadata": {},
      "outputs": [
        {
          "data": {
            "text/plain": [
              "0.32232520915056284"
            ]
          },
          "execution_count": 12,
          "metadata": {},
          "output_type": "execute_result"
        }
      ],
      "source": [
        "import numpy as np\n",
        "np.random.seed(100)\n",
        "model = RandomForestRegressor(n_estimators=100)\n",
        "model.fit(X_train, Y_train)\n",
        "r2 = model.score(X_test, Y_test)\n",
        "r2"
      ]
    },
    {
      "cell_type": "code",
      "execution_count": 13,
      "metadata": {},
      "outputs": [],
      "source": [
        "Y_pred = model.predict(X_test)"
      ]
    },
    {
      "cell_type": "markdown",
      "metadata": {
        "id": "LoLgjePyUXcv"
      },
      "source": [
        "## **6. Scatter Plot of Experimental vs Predicted pIC50 Values**"
      ]
    },
    {
      "cell_type": "code",
      "execution_count": 14,
      "metadata": {},
      "outputs": [
        {
          "name": "stderr",
          "output_type": "stream",
          "text": [
            "/home/amin/miniconda3/lib/python3.9/site-packages/seaborn/_decorators.py:36: FutureWarning: Pass the following variables as keyword args: x, y. From version 0.12, the only valid positional argument will be `data`, and passing other arguments without an explicit keyword will result in an error or misinterpretation.\n",
            "  warnings.warn(\n"
          ]
        },
        {
          "data": {
            "text/plain": [
              "<function matplotlib.pyplot.show(close=None, block=None)>"
            ]
          },
          "execution_count": 14,
          "metadata": {},
          "output_type": "execute_result"
        },
        {
          "data": {
            "image/png": "[encoded data removed]",
            "text/plain": [
              "<Figure size 360x360 with 1 Axes>"
            ]
          },
          "metadata": {},
          "output_type": "display_data"
        }
      ],
      "source": [
        "import seaborn as sns\n",
        "import matplotlib.pyplot as plt\n",
        "\n",
        "sns.set(color_codes=True)\n",
        "sns.set_style(\"white\")\n",
        "\n",
        "ax = sns.regplot(Y_test, Y_pred, scatter_kws={'alpha':0.4})\n",
        "ax.set_xlabel('Experimental pIC50', fontsize='large', fontweight='bold')\n",
        "ax.set_ylabel('Predicted pIC50', fontsize='large', fontweight='bold')\n",
        "ax.set_xlim(0, 12)\n",
        "ax.set_ylim(0, 12)\n",
        "ax.figure.set_size_inches(5, 5)\n",
        "plt.show"
      ]
    }
  ],
  "metadata": {
    "colab": {
      "collapsed_sections": [],
      "name": "CDD-ML-Part-4-Acetylcholinesterase-Regression-Random-Forest.ipynb",
      "provenance": []
    },
    "kernelspec": {
      "display_name": "Python 3",
      "language": "python",
      "name": "python3"
    },
    "language_info": {
      "codemirror_mode": {
        "name": "ipython",
        "version": 3
      },
      "file_extension": ".py",
      "mimetype": "text/x-python",
      "name": "python",
      "nbconvert_exporter": "python",
      "pygments_lexer": "ipython3",
      "version": "3.9.7"
    }
  },
  "nbformat": 4,
  "nbformat_minor": 0
}
